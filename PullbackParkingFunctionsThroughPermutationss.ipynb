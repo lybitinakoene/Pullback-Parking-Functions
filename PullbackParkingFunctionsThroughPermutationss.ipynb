{
 "cells": [
  {
   "cell_type": "code",
   "execution_count": 10,
   "id": "3d9f49",
   "metadata": {
    "collapsed": false
   },
   "outputs": [
    {
     "name": "stdout",
     "output_type": "stream",
     "text": [
      "[0, 0, 1, 2]\n",
      "[0, 1, 0, 2]\n",
      "[0, 1, 2, 0]\n",
      "[1, 0, 0, 2]\n",
      "[1, 0, 2, 0]\n",
      "[1, 2, 0, 0]\n",
      "[0, 0, 2, 1]\n",
      "[0, 2, 0, 1]\n",
      "[0, 2, 1, 0]\n",
      "[2, 0, 0, 1]\n",
      "[2, 0, 1, 0]\n",
      "[2, 1, 0, 0]\n"
     ]
    }
   ],
   "source": [
    "import itertools\n",
    "\n",
    "#building possible outcomes \n",
    "def permutations_with_zeros(m, n):\n",
    "    if m > n:\n",
    "        raise ValueError(\"m cannot be greater than n\")\n",
    "\n",
    "    # Calculate the number of zeros to insert\n",
    "    num_zeros = n - m\n",
    "\n",
    "    # Generate all permutations of length m\n",
    "    base_permutations = list(itertools.permutations(range(1, m+1), m))\n",
    "\n",
    "    # Result list to store final permutations with zeros\n",
    "    result = []\n",
    "\n",
    "    # Function to insert zeros into a permutation\n",
    "    def insert_zeros(perm, num_zeros):\n",
    "        perm_list = list(perm)\n",
    "        zero_positions = itertools.combinations(range(n), num_zeros)\n",
    "        for positions in zero_positions:\n",
    "            temp = perm_list.copy()\n",
    "            for pos in sorted(positions):\n",
    "                temp.insert(pos, 0)\n",
    "            result.append(temp)\n",
    "\n",
    "    # Insert zeros into each base permutation\n",
    "    for perm in base_permutations:\n",
    "        insert_zeros(perm, num_zeros)\n",
    "\n",
    "    return result"
   ]
  },
  {
   "cell_type": "code",
   "execution_count": 11,
   "id": "f91b78",
   "metadata": {
    "collapsed": false
   },
   "outputs": [
   ],
   "source": [
    "#Counts number of cars to the immediate right of spot i that park prior to the car parked in spot i\n",
    "def R(perm,i):\n",
    "    n = len(perm)\n",
    "    count = 0\n",
    "    if i == n+1:\n",
    "        return 0\n",
    "    j = i + 1\n",
    "    while j != n+1:\n",
    "        if perm[j-1] < perm[i-1] and perm[j-1] != 0:\n",
    "            count = count + 1\n",
    "            j = j + 1\n",
    "        else:\n",
    "            break\n",
    "    return count\n",
    "\n",
    "#Counts number of cars to the immediate left of spot i that park prior to the car parked in spot i\n",
    "def L(perm,i):\n",
    "    n = len(perm)\n",
    "    count = 0\n",
    "    if i-1 == 0:\n",
    "        return 0\n",
    "    j = i-1\n",
    "    while j != 0:\n",
    "        if perm[j-1] < perm[i-1] and perm[j-1] != 0:\n",
    "            count = count + 1\n",
    "            j = j - 1\n",
    "        else:\n",
    "            break\n",
    "    return count\n",
    "\n",
    "#Counts number of spots the car parked in spot i could have preferred that would result in it backing into spot i\n",
    "def B(perm,i,k,l):\n",
    "    return min(R(perm,i),k)\n",
    "\n",
    "#Counts number of spots the car parked in spot i could have preferred that would result in it pulling forward into spot i\n",
    "def F(perm,i,k,l):\n",
    "    if L(perm,i) == i-1:\n",
    "        return min(i-1,l) \n",
    "    else:\n",
    "        return max(min(L(perm,i)-k,l),0)"
   ]
  },
  {
   "cell_type": "code",
   "execution_count": 12,
   "id": "e6cc83",
   "metadata": {
    "collapsed": false
   },
   "outputs": [
   ],
   "source": [
    "#Counts the total number of pullback parking giving an m,n,k, and l value\n",
    "def counts(m,n,k,l):\n",
    "    total = 0\n",
    "    perms = permutations_with_zeros(m,n)\n",
    "    for perm in perms:\n",
    "        count = 1\n",
    "        for i in range(1,n+1):\n",
    "            count = count*(B(perm,i,k,l) + F(perm,i,k,l) + 1)\n",
    "        total = total + count\n",
    "    return total"
   ]
  }
 ],
 "metadata": {
  "kernelspec": {
   "argv": [
    "/usr/bin/python3",
    "-m",
    "ipykernel",
    "--HistoryManager.enabled=False",
    "--matplotlib=inline",
    "-c",
    "%config InlineBackend.figure_formats = set(['retina'])\nimport matplotlib; matplotlib.rcParams['figure.figsize'] = (12, 7)",
    "-f",
    "{connection_file}"
   ],
   "display_name": "Python 3 (system-wide)",
   "env": {
   },
   "language": "python",
   "metadata": {
    "cocalc": {
     "description": "Python 3 programming language",
     "priority": 100,
     "url": "https://www.python.org/"
    }
   },
   "name": "python3",
   "resource_dir": "/ext/jupyter/kernels/python3"
  }
 },
 "nbformat": 4,
 "nbformat_minor": 4
}
