{
 "cells": [
  {
   "cell_type": "code",
   "execution_count": 1,
   "id": "ce5857",
   "metadata": {
    "collapsed": false
   },
   "outputs": [
   ],
   "source": [
    "import itertools"
   ]
  },
  {
   "cell_type": "code",
   "execution_count": 8,
   "id": "0e0d04",
   "metadata": {
    "collapsed": false
   },
   "outputs": [
   ],
   "source": [
    "def my_pf(n,k,l):\n",
    "    pfs_list = []\n",
    "    values = list(range(1, n + 1))  # values from 1 to n\n",
    "    pfs_test = list(itertools.combinations(values, n)) + list(itertools.permutations(values, n))\n",
    "    for pf in pfs_test:\n",
    "        if is_valid_pf(pf,k,l) and pf not in pfs_list:\n",
    "            pfs_list.append(pf)\n",
    "    print(len(pfs_list))\n",
    "    return pfs_list\n",
    "\n",
    "def is_valid_pf(preference_list, k, l):\n",
    "    n = len(preference_list)  # Number of cars\n",
    "    parked_positions = set()\n",
    "    \n",
    "    for i in range(n):\n",
    "        pref_spot = preference_list[i]\n",
    "        \n",
    "        # Try to park at pref_spot, moving backward first\n",
    "        parked = False\n",
    "        for back_steps in range(k+1):\n",
    "            if pref_spot - back_steps not in parked_positions and pref_spot - back_steps >= 1:\n",
    "                parked_positions.add(pref_spot - back_steps)\n",
    "                parked = True\n",
    "                break\n",
    "        \n",
    "        # If not parked, try to park moving forward\n",
    "        if not parked:\n",
    "            for forward_steps in range(1, l+1):\n",
    "                if pref_spot + forward_steps not in parked_positions:\n",
    "                    parked_positions.add(pref_spot + forward_steps)\n",
    "                    parked = True\n",
    "                    break\n",
    "        \n",
    "        # If still not parked, the parking function is invalid\n",
    "        if not parked:\n",
    "            return False\n",
    "    \n",
    "    # If all cars could park according to the rules, it's valid\n",
    "    return True"
   ]
  }
 ],
 "metadata": {
  "kernelspec": {
   "argv": [
    "/usr/bin/python3",
    "-m",
    "ipykernel",
    "--HistoryManager.enabled=False",
    "--matplotlib=inline",
    "-c",
    "%config InlineBackend.figure_formats = set(['retina'])\nimport matplotlib; matplotlib.rcParams['figure.figsize'] = (12, 7)",
    "-f",
    "{connection_file}"
   ],
   "display_name": "Python 3 (system-wide)",
   "env": {
   },
   "language": "python",
   "metadata": {
    "cocalc": {
     "description": "Python 3 programming language",
     "priority": 100,
     "url": "https://www.python.org/"
    }
   },
   "name": "python3",
   "resource_dir": "/ext/jupyter/kernels/python3"
  }
 },
 "nbformat": 4,
 "nbformat_minor": 4
}
